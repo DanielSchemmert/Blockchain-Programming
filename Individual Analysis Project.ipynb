{
 "cells": [
  {
   "cell_type": "markdown",
   "metadata": {},
   "source": [
    "### --- set-up ---"
   ]
  },
  {
   "cell_type": "code",
   "execution_count": 1,
   "metadata": {
    "collapsed": true,
    "jupyter": {
     "outputs_hidden": true
    }
   },
   "outputs": [
    {
     "name": "stdout",
     "output_type": "stream",
     "text": [
      "Requirement already satisfied: bitfinex-tencars in c:\\users\\dsche\\anaconda3\\lib\\site-packages (0.0.3)\n",
      "Note: you may need to restart the kernel to use updated packages.\n"
     ]
    }
   ],
   "source": [
    "pip install bitfinex-tencars"
   ]
  },
  {
   "cell_type": "code",
   "execution_count": 1,
   "metadata": {},
   "outputs": [],
   "source": [
    "import bitfinex\n",
    "import datetime\n",
    "import time\n",
    "import pandas as pd\n",
    "import matplotlib.pyplot as plt"
   ]
  },
  {
   "cell_type": "markdown",
   "metadata": {},
   "source": [
    "## 1. Extracting time series data"
   ]
  },
  {
   "cell_type": "code",
   "execution_count": 23,
   "metadata": {},
   "outputs": [
    {
     "name": "stdout",
     "output_type": "stream",
     "text": [
      "No keys, only access to public API functions\n",
      "2019-12-31 23:00:00 2020-02-11 15:00:00 steps left: 87840.0\n",
      "2020-02-11 15:00:00 2020-03-24 07:00:00 steps left: 77840.0\n",
      "2020-03-24 07:00:00 2020-05-04 23:00:00 steps left: 67840.0\n",
      "2020-05-04 23:00:00 2020-06-15 15:00:00 steps left: 57840.0\n",
      "2020-06-15 15:00:00 2020-07-27 07:00:00 steps left: 47840.0\n",
      "2020-07-27 07:00:00 2020-09-06 23:00:00 steps left: 37840.0\n",
      "2020-09-06 23:00:00 2020-10-18 15:00:00 steps left: 27840.0\n",
      "2020-10-18 15:00:00 2020-11-29 07:00:00 steps left: 17840.0\n",
      "2020-11-29 07:00:00 2020-12-31 23:00:00 steps left: 7840.0\n"
     ]
    }
   ],
   "source": [
    "# Define query parameters\n",
    "pair = 'BTCUSD' # Currency pair of interest\n",
    "TIMEFRAME = '1h'\n",
    "TIMEFRAME_S = 360 # seconds in TIMEFRAME\n",
    "\n",
    "# Define the start date\n",
    "t_start = datetime.datetime(2020, 1, 1, 0, 0)\n",
    "t_start = time.mktime(t_start.timetuple()) * 1000\n",
    "\n",
    "# Define the end date\n",
    "t_stop = datetime.datetime(2021, 1, 1, 0, 0)\n",
    "t_stop = time.mktime(t_stop.timetuple()) * 1000\n",
    "\n",
    "def fetch_data(start, stop, symbol, interval, TIMEFRAME_S):\n",
    "    limit = 10000    # maximum data points from Bitfinex API \n",
    "    # Create api instance\n",
    "    api_v2 = bitfinex.bitfinex_v2.api_v2()\n",
    "    hour = TIMEFRAME_S * 1000\n",
    "    step = hour * limit\n",
    "    data = []\n",
    "\n",
    "    total_steps = (stop-start)/hour\n",
    "    while total_steps > 0:\n",
    "        if total_steps < limit: # recalculating ending steps\n",
    "            step = total_steps * hour\n",
    "\n",
    "        end = start + step\n",
    "        data += api_v2.candles(symbol=symbol, interval=interval, limit=limit, start=start, end=end)\n",
    "        print(pd.to_datetime(start, unit='ms'), pd.to_datetime(end, unit='ms'), \"steps left:\", total_steps)\n",
    "        start = start + step\n",
    "        total_steps -= limit\n",
    "        time.sleep(1.5)\n",
    "    return data\n",
    "\n",
    "result = fetch_data(t_start, t_stop, pair, TIMEFRAME, TIMEFRAME_S)\n",
    "names = ['Date', 'Open', 'Close', 'High', 'Low', 'Volume']\n",
    "df = pd.DataFrame(result, columns=names)\n",
    "df.drop_duplicates(inplace=True)\n",
    "df['Date'] = pd.to_datetime(df['Date'], unit='ms')\n",
    "df.set_index('Date', inplace=True)\n",
    "df.sort_index(inplace=True)\n",
    "df.to_csv(f\"{pair}_{TIMEFRAME}.csv\")"
   ]
  },
  {
   "cell_type": "markdown",
   "metadata": {},
   "source": [
    "## 2. Creating chart"
   ]
  },
  {
   "cell_type": "code",
   "execution_count": 27,
   "metadata": {},
   "outputs": [
    {
     "data": {
      "image/png": "[encoded data removed]",
      "text/plain": [
       "<Figure size 432x288 with 1 Axes>"
      ]
     },
     "metadata": {
      "needs_background": "light"
     },
     "output_type": "display_data"
    }
   ],
   "source": [
    "# Hourly prices for BTC from 01/2020 to 01/2021\n",
    "plt.plot(df['Close'],'-')\n",
    "plt.title('Hourly prices for BTC from 01/2020 to 01/2021')\n",
    "plt.xlabel('Month')\n",
    "plt.ylabel('BTC in USD')\n",
    "plt.show()"
   ]
  },
  {
   "cell_type": "markdown",
   "metadata": {},
   "source": [
    "## 3. Further descriptive data"
   ]
  },
  {
   "cell_type": "code",
   "execution_count": 42,
   "metadata": {},
   "outputs": [
    {
     "name": "stdout",
     "output_type": "stream",
     "text": [
      "The maximum hourly price in the given timeframe was 29154.0.\n"
     ]
    }
   ],
   "source": [
    "# All-time high within timeframe\n",
    "max_price = max(df['Close'])\n",
    "print(\"The maximum hourly price in the given timeframe was \" + str(max_price) + \".\")"
   ]
  },
  {
   "cell_type": "code",
   "execution_count": 43,
   "metadata": {},
   "outputs": [
    {
     "name": "stdout",
     "output_type": "stream",
     "text": [
      "The minimum hourly price in the given timeframe was 4297.1.\n"
     ]
    }
   ],
   "source": [
    "# All-time low within time frame\n",
    "min_price = min(df['Close'])\n",
    "print(\"The minimum hourly price in the given timeframe was \" + str(min_price) + \".\")"
   ]
  }
 ],
 "metadata": {
  "kernelspec": {
   "display_name": "Python 3",
   "language": "python",
   "name": "python3"
  },
  "language_info": {
   "codemirror_mode": {
    "name": "ipython",
    "version": 3
   },
   "file_extension": ".py",
   "mimetype": "text/x-python",
   "name": "python",
   "nbconvert_exporter": "python",
   "pygments_lexer": "ipython3",
   "version": "3.8.5"
  }
 },
 "nbformat": 4,
 "nbformat_minor": 4
}
